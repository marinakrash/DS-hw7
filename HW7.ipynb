{
  "nbformat": 4,
  "nbformat_minor": 0,
  "metadata": {
    "colab": {
      "provenance": []
    },
    "kernelspec": {
      "name": "python3",
      "display_name": "Python 3"
    },
    "language_info": {
      "name": "python"
    }
  },
  "cells": [
    {
      "cell_type": "code",
      "execution_count": 10,
      "metadata": {
        "colab": {
          "base_uri": "https://localhost:8080/"
        },
        "id": "k04WVv_672Nx",
        "outputId": "7c88ff93-3675-4d37-dd1b-6ac3a43b4f30"
      },
      "outputs": [
        {
          "output_type": "stream",
          "name": "stdout",
          "text": [
            "Lowest RMSE Score: 0.9343920764792438\n",
            "Best Parameters: {'n_factors': 50, 'n_epochs': 20, 'lr_all': 0.005}\n"
          ]
        }
      ],
      "source": [
        "import numpy as np\n",
        "from surprise import SVD, SVDpp, NMF, BaselineOnly, NormalPredictor, Dataset\n",
        "from surprise.model_selection import cross_validate, GridSearchCV\n",
        "\n",
        "data = Dataset.load_builtin('ml-100k')\n",
        "param_grid = {'n_factors': [50, 100, 150], 'n_epochs': [20, 30, 40], 'lr_all': [0.002, 0.005, 0.01]}\n",
        "model = SVD()\n",
        "\n",
        "best_search = GridSearchCV(SVD, param_grid, measures=['rmse', 'mae'], cv=5)\n",
        "best_search.fit(data)\n",
        "\n",
        "print(\"Lowest RMSE Score:\", best_search.best_score['rmse'])\n",
        "print(\"Best Parameters:\", best_search.best_params['rmse'])\n"
      ]
    },
    {
      "cell_type": "code",
      "source": [
        "\n",
        "algorithms = (SVD(random_state=0), SVDpp(random_state=0), NMF(random_state=0), BaselineOnly(), NormalPredictor())\n",
        "\n",
        "for algo in algorithms:\n",
        "    algorithm_name = algo.__class__.__name__\n",
        "    results = cross_validate(algo, data, measures=[\"rmse\", \"mae\"], cv=5)\n",
        "    print(f\"Algorithm: {algorithm_name}, RMSE: {results['test_rmse'].mean()}, MAE: {results['test_mae'].mean()}\")\n"
      ],
      "metadata": {
        "colab": {
          "base_uri": "https://localhost:8080/"
        },
        "id": "9nuXR8lBF78V",
        "outputId": "d28d1b24-403e-49ea-f29a-ed2bfb38b2b4"
      },
      "execution_count": 11,
      "outputs": [
        {
          "output_type": "stream",
          "name": "stdout",
          "text": [
            "Algorithm: SVD, RMSE: 0.9375603284539388, MAE: 0.739556683304557\n",
            "Algorithm: SVDpp, RMSE: 0.9177294666366699, MAE: 0.7200442707451538\n",
            "Algorithm: NMF, RMSE: 0.9625296371033423, MAE: 0.7568068276276716\n",
            "Estimating biases using als...\n",
            "Estimating biases using als...\n",
            "Estimating biases using als...\n",
            "Estimating biases using als...\n",
            "Estimating biases using als...\n",
            "Algorithm: BaselineOnly, RMSE: 0.9435856003391034, MAE: 0.7479592918371343\n",
            "Algorithm: NormalPredictor, RMSE: 1.5174804947873675, MAE: 1.2197019823421702\n"
          ]
        }
      ]
    },
    {
      "cell_type": "markdown",
      "source": [
        "Показники RMSE та MAE це показники помилок моделі, отже найвдалішою буде та, у якої ці показники найменші - SVD++"
      ],
      "metadata": {
        "id": "bN041auCEIg3"
      }
    }
  ]
}